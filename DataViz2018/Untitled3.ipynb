{
 "cells": [
  {
   "cell_type": "code",
   "execution_count": 1,
   "metadata": {},
   "outputs": [],
   "source": [
    "import pandas as pd\n",
    "import matplotlib.pyplot as plt\n",
    "import numpy as np\n",
    "import os"
   ]
  },
  {
   "cell_type": "code",
   "execution_count": 2,
   "metadata": {},
   "outputs": [],
   "source": [
    "df_EGamma     = pd.read_csv(\"EGamma_feature2.csv\")"
   ]
  },
  {
   "cell_type": "code",
   "execution_count": 3,
   "metadata": {},
   "outputs": [
    {
     "data": {
      "text/plain": [
       "Index(['Unnamed: 0', 'qpVtxChi2_0', 'qpVtxChi2_1', 'qpVtxChi2_2',\n",
       "       'qpVtxChi2_3', 'qpVtxChi2_4', 'qpVtxChi2_5', 'qpVtxChi2_6',\n",
       "       'qpVtxNtr_0', 'qpVtxNtr_1',\n",
       "       ...\n",
       "       'qecEn_1', 'qecEn_2', 'qecEn_3', 'qecEn_4', 'qecEn_5', 'qecEn_6',\n",
       "       'runId', 'lumiId', 'lumi', 'EventsPerLs'],\n",
       "      dtype='object', length=187)"
      ]
     },
     "execution_count": 3,
     "metadata": {},
     "output_type": "execute_result"
    }
   ],
   "source": [
    "df_EGamma.columns\n",
    "\n"
   ]
  },
  {
   "cell_type": "code",
   "execution_count": 6,
   "metadata": {},
   "outputs": [],
   "source": [
    "negative_columns_egamma= df_EGamma.columns[(df_EGamma < 0).any()]"
   ]
  },
  {
   "cell_type": "code",
   "execution_count": 7,
   "metadata": {},
   "outputs": [
    {
     "data": {
      "text/plain": [
       "Index(['qpVtxY__0', 'qpVtxY__2', 'qpVtxY__3', 'qpVtxY__4', 'qpVtxY__5',\n",
       "       'qpVtxY__6', 'qpVtxZ__0', 'qpVtxZ__2', 'qpVtxZ__3', 'qpVtxZ__4',\n",
       "       'qpVtxZ__5', 'qpVtxZ__6', 'qGsfEta_0', 'qGsfEta_2', 'qGsfEta_3',\n",
       "       'qGsfEta_4', 'qGsfPhi_0', 'qGsfPhi_2', 'qGsfPhi_3', 'qGsfPhi_4',\n",
       "       'qgedPhoEta_0', 'qgedPhoEta_2', 'qgedPhoEta_3', 'qgedPhoEta_4',\n",
       "       'qgedPhoPhi_0', 'qgedPhoPhi_2', 'qgedPhoPhi_3', 'qgedPhoPhi_4'],\n",
       "      dtype='object')"
      ]
     },
     "execution_count": 7,
     "metadata": {},
     "output_type": "execute_result"
    }
   ],
   "source": [
    "negative_columns_egamma\n"
   ]
  },
  {
   "cell_type": "code",
   "execution_count": null,
   "metadata": {},
   "outputs": [],
   "source": []
  }
 ],
 "metadata": {
  "kernelspec": {
   "display_name": "Python 3",
   "language": "python",
   "name": "python3"
  },
  "language_info": {
   "codemirror_mode": {
    "name": "ipython",
    "version": 3
   },
   "file_extension": ".py",
   "mimetype": "text/x-python",
   "name": "python",
   "nbconvert_exporter": "python",
   "pygments_lexer": "ipython3",
   "version": "3.7.3"
  }
 },
 "nbformat": 4,
 "nbformat_minor": 4
}
