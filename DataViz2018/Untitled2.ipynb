{
 "cells": [
  {
   "cell_type": "code",
   "execution_count": 1,
   "metadata": {},
   "outputs": [],
   "source": [
    "#new notebook for tests"
   ]
  },
  {
   "cell_type": "code",
   "execution_count": 2,
   "metadata": {},
   "outputs": [
    {
     "ename": "ModuleNotFoundError",
     "evalue": "No module named 'features'",
     "output_type": "error",
     "traceback": [
      "\u001b[0;31m---------------------------------------------------------------------------\u001b[0m",
      "\u001b[0;31mModuleNotFoundError\u001b[0m                       Traceback (most recent call last)",
      "\u001b[0;32m<ipython-input-2-59956174fb73>\u001b[0m in \u001b[0;36m<module>\u001b[0;34m\u001b[0m\n\u001b[1;32m      3\u001b[0m \u001b[0;32mimport\u001b[0m \u001b[0mnumpy\u001b[0m \u001b[0;32mas\u001b[0m \u001b[0mnp\u001b[0m\u001b[0;34m\u001b[0m\u001b[0;34m\u001b[0m\u001b[0m\n\u001b[1;32m      4\u001b[0m \u001b[0;32mimport\u001b[0m \u001b[0mos\u001b[0m\u001b[0;34m\u001b[0m\u001b[0;34m\u001b[0m\u001b[0m\n\u001b[0;32m----> 5\u001b[0;31m \u001b[0;32mimport\u001b[0m \u001b[0mfeatures\u001b[0m\u001b[0;34m\u001b[0m\u001b[0;34m\u001b[0m\u001b[0m\n\u001b[0m",
      "\u001b[0;31mModuleNotFoundError\u001b[0m: No module named 'features'"
     ]
    }
   ],
   "source": [
    "import pandas as pd\n",
    "import matplotlib.pyplot as plt\n",
    "import numpy as np\n",
    "import os\n",
    "#import features"
   ]
  },
  {
   "cell_type": "code",
   "execution_count": null,
   "metadata": {},
   "outputs": [],
   "source": [
    "features_new_egamma = [\"qpVtxChi2\",\n",
    "                    \"qpVtxNtr\",\n",
    "                    \"qPUEvt\",\n",
    "                    \"qlumiEvt\",\n",
    "                    \"qGsfPt\",\n",
    "                    \"qGsfEta\",\n",
    "                    \"qGsfPhi\",\n",
    "                    \"qGsfN\",\n",
    "                    \"qPhoN\",\n",
    "                    \"gedPhoPt\",\n",
    "                    \"gedPhoEta\",\n",
    "                    \"gedPhoPhi\",\n",
    "                    \"gedPhoEn\",\n",
    "                    \"gedPhoe3x3\",\n",
    "                    \"qSigmaIEta\",\n",
    "                    \"qSigmaIPhi\"]\n",
    "\n",
    "features_new_singlemuon = [\"qPUEvt\",\n",
    "                           \"qlumiEvt\",\n",
    "                           \"qMuN\",\n",
    "                           \"qMuNCh\",\n",
    "                           \"qMuPt\",\n",
    "                           \"qMuEta\",\n",
    "                           \"qMuPhi\",\n",
    "                           \"qMuEn\",\n",
    "                           \"qMuChi2\"]\n",
    "\n",
    "features_new_jetht = [\"qpVtxChi2\",\n",
    "                      \"qpVtxNtr\",\n",
    "                      \"qPUEvt\",\n",
    "                      \"qlumiEvt\",\n",
    "                      \"qPFJetN\",\n",
    "                      \"qPFJetPt\",\n",
    "                      \"qPFJetPhi\",\n",
    "                      \"qPFJetEta\",\n",
    "                      \"qPFMetPt\",\n",
    "                      \"qPFMetPhi\",\n",
    "                      \"qCalJetN\",\n",
    "                      \"qCalJetPt\",\n",
    "                      \"qCalJetEta\",\n",
    "                      \"qCalJetPhi\",\n",
    "                      \"qCalJetEn\",\n",
    "                      \"qCalMETPt\",\n",
    "                      \"qCalMETPhi\",\n",
    "                      \"qCCEn\",\n",
    "                      \"qCCEta\",\n",
    "                      \"qCCPhi\",\n",
    "                      \"qSCEn\",\n",
    "                      \"qSCEta\",\n",
    "                      \"qSCPhi\"]\n",
    "\n",
    "features_zerobias = [\"qpVtxChi2\",\n",
    "                     \"qpVtxNtr\",\n",
    "                     \"qPUEvt\",\n",
    "                     \"qlumiEvt\",\n",
    "                     \"qgTkPt\",\n",
    "                     \"qgTkEta\",\n",
    "                     \"qgTkPhi\",\n",
    "                     \"qgTkN\",\n",
    "                     \"qgTkChi2\",\n",
    "                     \"qgTkNHits\",\n",
    "                     \"qgTkNLay\"]"
   ]
  },
  {
   "cell_type": "code",
   "execution_count": null,
   "metadata": {},
   "outputs": [],
   "source": [
    "PD_GOOD_DATA_DIRECTORY = \"/afs/cern.ch/work/p/ppayoung/public/data2018/prompt_reco_2018/good_data/\"\n",
    "PD_BAD_DATA_DIRECTORY = \"/afs/cern.ch/work/p/ppayoung/public/data2018/prompt_reco_2018/bad_data/\"\n",
    "PD_DCS_BAD_DATA_DIRECTORY = \"/afs/cern.ch/work/p/ppayoung/public/data2018/prompt_reco_2018/dcs_bad_data/\"\n",
    "#PD_FAILURE_DATA_DIRECTORY = \"/afs/cern.ch/work/p/ppayoung/public/data2018/prompt_reco_2018/failures/\""
   ]
  },
  {
   "cell_type": "code",
   "execution_count": null,
   "metadata": {},
   "outputs": [],
   "source": [
    "df_EGamma     = pd.read_csv(os.path.join(PD_GOOD_DATA_DIRECTORY,\"EGamma_feature2.csv\"))\n",
    "df_ZeroBias   = pd.read_csv(os.path.join(PD_GOOD_DATA_DIRECTORY,\"ZeroBias_feature2.csv\"))\n",
    "df_JetHT      = pd.read_csv(os.path.join(PD_GOOD_DATA_DIRECTORY,\"JetHT_feature2.csv\"))\n",
    "df_SingleMuon = pd.read_csv(os.path.join(PD_GOOD_DATA_DIRECTORY,\"SingleMuon_feature2.csv\"))"
   ]
  },
  {
   "cell_type": "code",
   "execution_count": null,
   "metadata": {},
   "outputs": [],
   "source": [
    "cols_egamma = []\n",
    "for feature in features_new_egamma:\n",
    "    a = [col for col in df_EGamma.columns if \"{}\".format(feature) in col] \n",
    "    cols_egamma = cols_egamma + a\n",
    "new_cols_egamma = []\n",
    "new_cols_egamma = cols_egamma + [\"lumiId\", \"lumi\", \"EventsPerLs\", \"runId\"]"
   ]
  },
  {
   "cell_type": "code",
   "execution_count": null,
   "metadata": {},
   "outputs": [],
   "source": [
    "cols_zerobias = []\n",
    "for feature in features_new_zerobias:\n",
    "    a = [col for col in df_ZeroBias.columns if \"{}\".format(feature) in col] \n",
    "    cols_zerobias = cols_zerobias + a\n",
    "new_cols_zerobias = []\n",
    "new_cols_zerobias = cols_zerobias + [\"lumiId\", \"lumi\", \"EventsPerLs\", \"runId\"]"
   ]
  },
  {
   "cell_type": "code",
   "execution_count": null,
   "metadata": {},
   "outputs": [],
   "source": [
    "cols_jetht = []\n",
    "for feature in features_new_jetht:\n",
    "    a = [col for col in df_JetHT.columns if \"{}\".format(feature) in col] \n",
    "    cols_jetht = cols_jetht + a\n",
    "new_cols_jetht = []\n",
    "new_cols_jetht = cols_jetht + [\"lumiId\", \"lumi\", \"EventsPerLs\", \"runId\"]"
   ]
  },
  {
   "cell_type": "code",
   "execution_count": null,
   "metadata": {},
   "outputs": [],
   "source": [
    "cols_singlemuon = []\n",
    "for feature in features_new_egamma:\n",
    "    a = [col for col in df_SingleMuon.columns if \"{}\".format(feature) in col] \n",
    "    cols_singlemuon = cols_singlemuon + a\n",
    "new_cols_singlemuon = []\n",
    "new_cols_singlemuon = cols_singlemuon + [\"lumiId\", \"lumi\", \"EventsPerLs\", \"runId\"]"
   ]
  },
  {
   "cell_type": "code",
   "execution_count": null,
   "metadata": {},
   "outputs": [],
   "source": [
    "df_EGamma_new = df_EGamma[new_cols_egamma]\n",
    "df_ZeroBias_new = df_ZeroBias[new_cols_zerobias]\n",
    "df_JetHT_new = df_JetHT[new_cols_jetht]\n",
    "df_SingleMuon_new = df_SingleMuon[new_cols_singlemuon]\n"
   ]
  },
  {
   "cell_type": "code",
   "execution_count": null,
   "metadata": {},
   "outputs": [],
   "source": [
    "run_numbers_egamma = df_EGamma_new[\"runId\"].unique().tolist()\n",
    "run_numbers_zerobias = df_Zerobias_new[\"runId\"].unique().tolist()\n",
    "run_numbers_singlemuon = df_SingleMuon_new[\"runId\"].unique().tolist()\n",
    "run_numbers_jetht = df_JetHT_new[\"runId\"].unique().tolist()"
   ]
  },
  {
   "cell_type": "code",
   "execution_count": null,
   "metadata": {},
   "outputs": [],
   "source": [
    "def plots(x, y, title,dataset):\n",
    "    \n",
    "    plt.figure()\n",
    "    plt.xlabel(\"Lumi_Id\")\n",
    "    plt.ylabel(\"Quantile_Value\")\n",
    "    plt.title(title)\n",
    "    plt.bar(x,y)\n",
    "    # plt.show()\n",
    "    plt.savefig('{}_{}.png'.format(title,dataset))"
   ]
  },
  {
   "cell_type": "code",
   "execution_count": null,
   "metadata": {},
   "outputs": [],
   "source": []
  },
  {
   "cell_type": "code",
   "execution_count": null,
   "metadata": {},
   "outputs": [],
   "source": []
  },
  {
   "cell_type": "code",
   "execution_count": null,
   "metadata": {},
   "outputs": [],
   "source": []
  },
  {
   "cell_type": "code",
   "execution_count": null,
   "metadata": {},
   "outputs": [],
   "source": [
    "for run_number in run_numbers:\n",
    "    df_test = df_EGamma_new[df_EGamma_new[\"runId\"] == run_number]\n",
    "    for quantile in cols:\n",
    "        plots(df_test[\"lumiId\"],df_test[quantile], \"{}_{}\".format(run_number,quantile),egamma)"
   ]
  },
  {
   "cell_type": "code",
   "execution_count": null,
   "metadata": {},
   "outputs": [],
   "source": [
    "for run_number in run_numbers:\n",
    "    df_test = df_JetHT_new[df_JetHT_new[\"runId\"] == run_number]\n",
    "    for quantile in cols:\n",
    "        plots(df_test[\"lumiId\"],df_test[quantile], \"{}_{}\".format(run_number,quantile),jetht)"
   ]
  },
  {
   "cell_type": "code",
   "execution_count": null,
   "metadata": {},
   "outputs": [],
   "source": [
    "for run_number in run_numbers:\n",
    "    df_test = df_ZeroBias_new[df_ZeroBias_new[\"runId\"] == run_number]\n",
    "    for quantile in cols:\n",
    "        plots(df_test[\"lumiId\"],df_test[quantile], \"{}_{}\".format(run_number,quantile),zerobias)"
   ]
  },
  {
   "cell_type": "code",
   "execution_count": null,
   "metadata": {},
   "outputs": [],
   "source": [
    "for run_number in run_numbers:\n",
    "    df_test = df_SingleMuon_new[df_SingleMuon_new[\"runId\"] == run_number]\n",
    "    for quantile in cols:\n",
    "        plots(df_test[\"lumiId\"],df_test[quantile], \"{}_{}\".format(run_number,quantile),singlemuon)"
   ]
  }
 ],
 "metadata": {
  "kernelspec": {
   "display_name": "Python 3",
   "language": "python",
   "name": "python3"
  },
  "language_info": {
   "codemirror_mode": {
    "name": "ipython",
    "version": 3
   },
   "file_extension": ".py",
   "mimetype": "text/x-python",
   "name": "python",
   "nbconvert_exporter": "python",
   "pygments_lexer": "ipython3",
   "version": "3.7.3"
  }
 },
 "nbformat": 4,
 "nbformat_minor": 4
}
