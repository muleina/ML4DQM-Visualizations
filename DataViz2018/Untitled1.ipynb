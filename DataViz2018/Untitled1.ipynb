{
 "cells": [
  {
   "cell_type": "code",
   "execution_count": 2,
   "metadata": {},
   "outputs": [],
   "source": [
    "import pandas as pd\n",
    "import matplotlib.pyplot as plt\n",
    "import numpy as np\n",
    "import os"
   ]
  },
  {
   "cell_type": "markdown",
   "metadata": {},
   "source": [
    "# EGamma"
   ]
  },
  {
   "cell_type": "markdown",
   "metadata": {},
   "source": [
    "### Loading the .csv files"
   ]
  },
  {
   "cell_type": "code",
   "execution_count": 3,
   "metadata": {},
   "outputs": [],
   "source": [
    "# just starting with Egamma first\n",
    "\n",
    "df_EGamma     = pd.read_csv(\"EGamma_feature2.csv\")\n"
   ]
  },
  {
   "cell_type": "code",
   "execution_count": 4,
   "metadata": {},
   "outputs": [
    {
     "name": "stdout",
     "output_type": "stream",
     "text": [
      "<class 'pandas.core.frame.DataFrame'>\n",
      "RangeIndex: 104415 entries, 0 to 104414\n",
      "Columns: 187 entries, Unnamed: 0 to EventsPerLs\n",
      "dtypes: float64(184), int64(3)\n",
      "memory usage: 149.0 MB\n"
     ]
    }
   ],
   "source": [
    "df_EGamma.info()\n"
   ]
  },
  {
   "cell_type": "markdown",
   "metadata": {},
   "source": [
    "### Removing unnecessary quantiles ( not in the twiki)\n",
    "#### https://twiki.cern.ch/twiki/bin/viewauth/CMS/ML4DQM"
   ]
  },
  {
   "cell_type": "code",
   "execution_count": 5,
   "metadata": {},
   "outputs": [],
   "source": [
    "    features_new_egamma = list([\"qpVtxChi2\",\n",
    "                        \"qpVtxNtr\",\n",
    "                        \"qPUEvt\",\n",
    "                        \"qlumiEvt\",\n",
    "                        \"qGsfPt\",\n",
    "                        \"qGsfEta\",\n",
    "                        \"qGsfPhi\",\n",
    "                        \"qGsfN\",\n",
    "                        \"qPhoN\",\n",
    "                        \"gedPhoPt\",\n",
    "                        \"gedPhoEta\",\n",
    "                        \"gedPhoPhi\",\n",
    "                        \"gedPhoEn\",\n",
    "                        \"gedPhoe3x3\",\n",
    "                        \"qSigmaIEta\",\n",
    "                        \"qSigmaIPhi\"])"
   ]
  },
  {
   "cell_type": "code",
   "execution_count": 6,
   "metadata": {},
   "outputs": [],
   "source": [
    "cols = []\n",
    "for feature in features_new_egamma:\n",
    "    a = [col for col in df_EGamma.columns if \"{}\".format(feature) in col] \n",
    "    cols = cols + a\n",
    "new_cols = []\n",
    "new_cols = cols + [\"lumiId\", \"lumi\", \"EventsPerLs\", \"runId\"]"
   ]
  },
  {
   "cell_type": "code",
   "execution_count": null,
   "metadata": {},
   "outputs": [],
   "source": []
  },
  {
   "cell_type": "code",
   "execution_count": 7,
   "metadata": {},
   "outputs": [],
   "source": [
    "df_EGamma_new = df_EGamma[new_cols]\n"
   ]
  },
  {
   "cell_type": "code",
   "execution_count": 8,
   "metadata": {},
   "outputs": [
    {
     "data": {
      "text/plain": [
       "Index(['qpVtxChi2_0', 'qpVtxChi2_1', 'qpVtxChi2_2', 'qpVtxChi2_3',\n",
       "       'qpVtxChi2_4', 'qpVtxChi2_5', 'qpVtxChi2_6', 'qpVtxNtr_0', 'qpVtxNtr_1',\n",
       "       'qpVtxNtr_2',\n",
       "       ...\n",
       "       'qSigmaIPhi_1', 'qSigmaIPhi_2', 'qSigmaIPhi_3', 'qSigmaIPhi_4',\n",
       "       'qSigmaIPhi_5', 'qSigmaIPhi_6', 'lumiId', 'lumi', 'EventsPerLs',\n",
       "       'runId'],\n",
       "      dtype='object', length=116)"
      ]
     },
     "execution_count": 8,
     "metadata": {},
     "output_type": "execute_result"
    }
   ],
   "source": [
    "df_EGamma_new.columns"
   ]
  },
  {
   "cell_type": "code",
   "execution_count": 9,
   "metadata": {},
   "outputs": [],
   "source": [
    "run_numbers = df_EGamma_new[\"runId\"].unique().tolist()"
   ]
  },
  {
   "cell_type": "code",
   "execution_count": 10,
   "metadata": {},
   "outputs": [],
   "source": [
    "def plots(x, y, title):\n",
    "    \n",
    "    plt.figure()\n",
    "    plt.xlabel(\"Lumi_Id\")\n",
    "    plt.ylabel(\"Quantile_Value\")\n",
    "    plt.title(title)\n",
    "    plt.bar(x,y)\n",
    "    # plt.show()\n",
    "    plt.savefig('{}.png'.format(title))"
   ]
  },
  {
   "cell_type": "code",
   "execution_count": 22,
   "metadata": {},
   "outputs": [
    {
     "ename": "FileExistsError",
     "evalue": "[Errno 17] File exists: '/home/rishabh/Documents/ML4DQM/DataViz2018/Egamma'",
     "output_type": "error",
     "traceback": [
      "\u001b[0;31m---------------------------------------------------------------------------\u001b[0m",
      "\u001b[0;31mFileExistsError\u001b[0m                           Traceback (most recent call last)",
      "\u001b[0;32m<ipython-input-22-b449313ed74c>\u001b[0m in \u001b[0;36m<module>\u001b[0;34m\u001b[0m\n\u001b[1;32m      1\u001b[0m \u001b[0mpath\u001b[0m \u001b[0;34m=\u001b[0m \u001b[0mos\u001b[0m\u001b[0;34m.\u001b[0m\u001b[0mgetcwd\u001b[0m\u001b[0;34m(\u001b[0m\u001b[0;34m)\u001b[0m\u001b[0;34m\u001b[0m\u001b[0;34m\u001b[0m\u001b[0m\n\u001b[0;32m----> 2\u001b[0;31m \u001b[0mos\u001b[0m\u001b[0;34m.\u001b[0m\u001b[0mmkdir\u001b[0m\u001b[0;34m(\u001b[0m\u001b[0mos\u001b[0m\u001b[0;34m.\u001b[0m\u001b[0mpath\u001b[0m\u001b[0;34m.\u001b[0m\u001b[0mjoin\u001b[0m\u001b[0;34m(\u001b[0m\u001b[0mpath\u001b[0m\u001b[0;34m,\u001b[0m \u001b[0;34m\"Egamma\"\u001b[0m\u001b[0;34m)\u001b[0m\u001b[0;34m)\u001b[0m\u001b[0;34m\u001b[0m\u001b[0;34m\u001b[0m\u001b[0m\n\u001b[0m",
      "\u001b[0;31mFileExistsError\u001b[0m: [Errno 17] File exists: '/home/rishabh/Documents/ML4DQM/DataViz2018/Egamma'"
     ]
    }
   ],
   "source": [
    "path = os.getcwd()\n",
    "os.mkdir(os.path.join(path, \"Egamma\"))"
   ]
  },
  {
   "cell_type": "code",
   "execution_count": 23,
   "metadata": {},
   "outputs": [
    {
     "name": "stdout",
     "output_type": "stream",
     "text": [
      "/home/rishabh/Documents/ML4DQM/DataViz2018/Egamma\n"
     ]
    }
   ],
   "source": [
    "cd Egamma/"
   ]
  },
  {
   "cell_type": "code",
   "execution_count": null,
   "metadata": {},
   "outputs": [
    {
     "name": "stderr",
     "output_type": "stream",
     "text": [
      "/home/rishabh/anaconda3/lib/python3.7/site-packages/ipykernel_launcher.py:3: RuntimeWarning: More than 20 figures have been opened. Figures created through the pyplot interface (`matplotlib.pyplot.figure`) are retained until explicitly closed and may consume too much memory. (To control this warning, see the rcParam `figure.max_open_warning`).\n",
      "  This is separate from the ipykernel package so we can avoid doing imports until\n"
     ]
    }
   ],
   "source": [
    "for run_number in run_numbers:\n",
    "    df_test = df_EGamma_new[df_EGamma_new[\"runId\"] == run_number]\n",
    "    for quantile in cols:\n",
    "        plots(df_test[\"lumiId\"],df_test[quantile], \"{}_{}\".format(run_number,quantile))\n",
    "        #plots(a.lumiId,quantile,\"{}_{}\".format(run_number, quantile))\n",
    "        "
   ]
  },
  {
   "cell_type": "code",
   "execution_count": 141,
   "metadata": {},
   "outputs": [
    {
     "data": {
      "image/png": "[encoded data removed]",
      "text/plain": [
       "<Figure size 432x288 with 1 Axes>"
      ]
     },
     "metadata": {
      "needs_background": "light"
     },
     "output_type": "display_data"
    }
   ],
   "source": [
    "#plots(a.lumiId, a.qGsfEta_4, \"LumiId vs qgsf\")"
   ]
  },
  {
   "cell_type": "code",
   "execution_count": null,
   "metadata": {},
   "outputs": [],
   "source": []
  },
  {
   "cell_type": "markdown",
   "metadata": {},
   "source": [
    "# SingleMuon"
   ]
  },
  {
   "cell_type": "code",
   "execution_count": null,
   "metadata": {},
   "outputs": [],
   "source": [
    "df_EGamma = pd.read_csv(\"\")"
   ]
  }
 ],
 "metadata": {
  "kernelspec": {
   "display_name": "Python 3",
   "language": "python",
   "name": "python3"
  },
  "language_info": {
   "codemirror_mode": {
    "name": "ipython",
    "version": 3
   },
   "file_extension": ".py",
   "mimetype": "text/x-python",
   "name": "python",
   "nbconvert_exporter": "python",
   "pygments_lexer": "ipython3",
   "version": "3.7.3"
  }
 },
 "nbformat": 4,
 "nbformat_minor": 4
}
