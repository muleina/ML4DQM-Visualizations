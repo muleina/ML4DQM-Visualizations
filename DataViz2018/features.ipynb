{
 "cells": [
  {
   "cell_type": "code",
   "execution_count": null,
   "metadata": {},
   "outputs": [],
   "source": [
    "\n",
    "    "
   ]
  },
  {
   "cell_type": "code",
   "execution_count": null,
   "metadata": {},
   "outputs": [],
   "source": [
    "features_new_egamma = [\"qpVtxChi2\",\n",
    "                    \"qpVtxNtr\",\n",
    "                    \"qPUEvt\",\n",
    "                    \"qlumiEvt\",\n",
    "                    \"qGsfPt\",\n",
    "                    \"qGsfEta\",\n",
    "                    \"qGsfPhi\",\n",
    "                    \"qGsfN\",\n",
    "                    \"qPhoN\",\n",
    "                    \"gedPhoPt\",\n",
    "                    \"gedPhoEta\",\n",
    "                    \"gedPhoPhi\",\n",
    "                    \"gedPhoEn\",\n",
    "                    \"gedPhoe3x3\",\n",
    "                    \"qSigmaIEta\",\n",
    "                    \"qSigmaIPhi\"]\n",
    "\n",
    "features_new_singlemuon = [\"qPUEvt\",\n",
    "                           \"qlumiEvt\",\n",
    "                           \"qMuN\",\n",
    "                           \"qMuNCh\",\n",
    "                           \"qMuPt\",\n",
    "                           \"qMuEta\",\n",
    "                           \"qMuPhi\",\n",
    "                           \"qMuEn\",\n",
    "                           \"qMuChi2\"]\n",
    "\n",
    "features_new_jetht = [\"qpVtxChi2\",\n",
    "                      \"qpVtxNtr\",\n",
    "                      \"qPUEvt\",\n",
    "                      \"qlumiEvt\",\n",
    "                      \"qPFJetN\",\n",
    "                      \"qPFJetPt\",\n",
    "                      \"qPFJetPhi\",\n",
    "                      \"qPFJetEta\",\n",
    "                      \"qPFMetPt\",\n",
    "                      \"qPFMetPhi\",\n",
    "                      \"qCalJetN\",\n",
    "                      \"qCalJetPt\",\n",
    "                      \"qCalJetEta\",\n",
    "                      \"qCalJetPhi\",\n",
    "                      \"qCalJetEn\",\n",
    "                      \"qCalMETPt\",\n",
    "                      \"qCalMETPhi\",\n",
    "                      \"qCCEn\",\n",
    "                      \"qCCEta\",\n",
    "                      \"qCCPhi\",\n",
    "                      \"qSCEn\",\n",
    "                      \"qSCEta\",\n",
    "                      \"qSCPhi\"]\n",
    "\n",
    "features_zerobias = [\"qpVtxChi2\",\n",
    "                     \"qpVtxNtr\",\n",
    "                     \"qPUEvt\",\n",
    "                     \"qlumiEvt\",\n",
    "                     \"qgTkPt\",\n",
    "                     \"qgTkEta\",\n",
    "                     \"qgTkPhi\",\n",
    "                     \"qgTkN\",\n",
    "                     \"qgTkChi2\",\n",
    "                     \"qgTkNHits\",\n",
    "                     \"qgTkNLay\"]"
   ]
  }
 ],
 "metadata": {
  "kernelspec": {
   "display_name": "Python 3",
   "language": "python",
   "name": "python3"
  },
  "language_info": {
   "codemirror_mode": {
    "name": "ipython",
    "version": 3
   },
   "file_extension": ".py",
   "mimetype": "text/x-python",
   "name": "python",
   "nbconvert_exporter": "python",
   "pygments_lexer": "ipython3",
   "version": "3.7.3"
  }
 },
 "nbformat": 4,
 "nbformat_minor": 4
}
